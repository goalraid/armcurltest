{
 "cells": [
  {
   "cell_type": "code",
   "execution_count": null,
   "id": "770f291f",
   "metadata": {},
   "outputs": [],
   "source": [
    "keyboard = Controller()\n",
    "\n",
    "def start():\n",
    "    #img = cv2.imread('1.png')\n",
    "    cap = cv2.VideoCapture(0)\n",
    "    cap.set(3,640)\n",
    "    cap.set(4,480)\n",
    "    total = 0\n",
    "    myData = 0\n",
    "\n",
    "\n",
    "    with open('workouts.txt') as f:\n",
    "        workoutList = f.read().splitlines()\n",
    "    while True:\n",
    "\n",
    "        success, img = cap.read()\n",
    "        for barcode in decode(img):\n",
    "            myData = barcode.data.decode('utf-8')\n",
    "            print(myData)\n",
    "        cv2.imshow('Result', img)\n",
    "        if myData == 'curl':\n",
    "            total = 2\n",
    "            print('yay')\n",
    "            keyboard.press('q')\n",
    "            keyboard.release('q')\n",
    "            cap.release()\n",
    "            cv2.destroyAllWindows()\n",
    "            \n",
    "        elif myData == 'jj':\n",
    "            total = 3\n",
    "            print('yay')\n",
    "            keyboard.press('q')\n",
    "            keyboard.release('q')\n",
    "            cap.release()\n",
    "            cv2.destroyAllWindows()\n",
    "            \n",
    "        \n",
    "        key = cv2.waitKey(25)\n",
    "        if key == ord('q'):\n",
    "            print(\"Your next workout is\")\n",
    "            \n",
    "        if total == 2:\n",
    "            curl()\n",
    "            \n",
    "        if total == 3:\n",
    "            print('done')\n",
    "            \n",
    "            return total\n",
    "\n",
    "        \n",
    "\n",
    "start()\n",
    "\n"
   ]
  }
 ],
 "metadata": {
  "kernelspec": {
   "display_name": "Python 3.8.8 64-bit ('base': conda)",
   "language": "python",
   "name": "python388jvsc74a57bd0fdf588f9fc4bc68fabd872da66cb6e5574f1ea7111d3fb23a2a2bce48fa638e8"
  },
  "language_info": {
   "codemirror_mode": {
    "name": "ipython",
    "version": 3
   },
   "file_extension": ".py",
   "mimetype": "text/x-python",
   "name": "python",
   "nbconvert_exporter": "python",
   "pygments_lexer": "ipython3",
   "version": "3.8.8"
  }
 },
 "nbformat": 4,
 "nbformat_minor": 5
}
